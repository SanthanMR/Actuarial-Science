{
 "cells": [
  {
   "cell_type": "code",
   "execution_count": 1,
   "id": "6573ef52",
   "metadata": {},
   "outputs": [],
   "source": [
    "import numpy as np\n",
    "import pandas as pd"
   ]
  },
  {
   "cell_type": "code",
   "execution_count": 2,
   "id": "3777f014",
   "metadata": {},
   "outputs": [],
   "source": [
    "pd.set_option(\"display.max_rows\",None)\n",
    "pd.set_option(\"display.max_columns\",None)"
   ]
  },
  {
   "cell_type": "code",
   "execution_count": 3,
   "id": "0d635dfe",
   "metadata": {},
   "outputs": [],
   "source": [
    "from sklearn.model_selection import GridSearchCV\n",
    "from sklearn.ensemble import RandomForestClassifier"
   ]
  },
  {
   "cell_type": "code",
   "execution_count": 4,
   "id": "7e3f8e56",
   "metadata": {},
   "outputs": [],
   "source": [
    "df= pd.read_csv(\"Crash_Analysis_System_(CAS)_data.csv\")"
   ]
  },
  {
   "cell_type": "code",
   "execution_count": 5,
   "id": "fac218a4",
   "metadata": {},
   "outputs": [
    {
     "data": {
      "text/html": [
       "<div>\n",
       "<style scoped>\n",
       "    .dataframe tbody tr th:only-of-type {\n",
       "        vertical-align: middle;\n",
       "    }\n",
       "\n",
       "    .dataframe tbody tr th {\n",
       "        vertical-align: top;\n",
       "    }\n",
       "\n",
       "    .dataframe thead th {\n",
       "        text-align: right;\n",
       "    }\n",
       "</style>\n",
       "<table border=\"1\" class=\"dataframe\">\n",
       "  <thead>\n",
       "    <tr style=\"text-align: right;\">\n",
       "      <th></th>\n",
       "      <th>X</th>\n",
       "      <th>Y</th>\n",
       "      <th>OBJECTID</th>\n",
       "      <th>advisorySpeed</th>\n",
       "      <th>areaUnitID</th>\n",
       "      <th>bicycle</th>\n",
       "      <th>bridge</th>\n",
       "      <th>bus</th>\n",
       "      <th>carStationWagon</th>\n",
       "      <th>cliffBank</th>\n",
       "      <th>crashDirectionDescription</th>\n",
       "      <th>crashFinancialYear</th>\n",
       "      <th>crashLocation1</th>\n",
       "      <th>crashLocation2</th>\n",
       "      <th>crashRoadSideRoad</th>\n",
       "      <th>crashSeverity</th>\n",
       "      <th>crashSHDescription</th>\n",
       "      <th>crashYear</th>\n",
       "      <th>debris</th>\n",
       "      <th>directionRoleDescription</th>\n",
       "      <th>ditch</th>\n",
       "      <th>fatalCount</th>\n",
       "      <th>fence</th>\n",
       "      <th>flatHill</th>\n",
       "      <th>guardRail</th>\n",
       "      <th>holiday</th>\n",
       "      <th>houseOrBuilding</th>\n",
       "      <th>intersection</th>\n",
       "      <th>kerb</th>\n",
       "      <th>light</th>\n",
       "      <th>meshblockId</th>\n",
       "      <th>minorInjuryCount</th>\n",
       "      <th>moped</th>\n",
       "      <th>motorcycle</th>\n",
       "      <th>NumberOfLanes</th>\n",
       "      <th>objectThrownOrDropped</th>\n",
       "      <th>otherObject</th>\n",
       "      <th>otherVehicleType</th>\n",
       "      <th>overBank</th>\n",
       "      <th>parkedVehicle</th>\n",
       "      <th>pedestrian</th>\n",
       "      <th>phoneBoxEtc</th>\n",
       "      <th>postOrPole</th>\n",
       "      <th>region</th>\n",
       "      <th>roadCharacter</th>\n",
       "      <th>roadLane</th>\n",
       "      <th>roadSurface</th>\n",
       "      <th>roadworks</th>\n",
       "      <th>schoolBus</th>\n",
       "      <th>seriousInjuryCount</th>\n",
       "      <th>slipOrFlood</th>\n",
       "      <th>speedLimit</th>\n",
       "      <th>strayAnimal</th>\n",
       "      <th>streetLight</th>\n",
       "      <th>suv</th>\n",
       "      <th>taxi</th>\n",
       "      <th>temporarySpeedLimit</th>\n",
       "      <th>tlaId</th>\n",
       "      <th>tlaName</th>\n",
       "      <th>trafficControl</th>\n",
       "      <th>trafficIsland</th>\n",
       "      <th>trafficSign</th>\n",
       "      <th>train</th>\n",
       "      <th>tree</th>\n",
       "      <th>truck</th>\n",
       "      <th>unknownVehicleType</th>\n",
       "      <th>urban</th>\n",
       "      <th>vanOrUtility</th>\n",
       "      <th>vehicle</th>\n",
       "      <th>waterRiver</th>\n",
       "      <th>weatherA</th>\n",
       "      <th>weatherB</th>\n",
       "    </tr>\n",
       "  </thead>\n",
       "  <tbody>\n",
       "    <tr>\n",
       "      <th>0</th>\n",
       "      <td>1406914.0</td>\n",
       "      <td>4915023.0</td>\n",
       "      <td>1</td>\n",
       "      <td>NaN</td>\n",
       "      <td>602800.0</td>\n",
       "      <td>0.0</td>\n",
       "      <td>NaN</td>\n",
       "      <td>0.0</td>\n",
       "      <td>1.0</td>\n",
       "      <td>NaN</td>\n",
       "      <td>Null</td>\n",
       "      <td>2000/2001</td>\n",
       "      <td>MIDLAND ST</td>\n",
       "      <td>PORTSMOUTH DRIVE</td>\n",
       "      <td>NaN</td>\n",
       "      <td>Non-Injury Crash</td>\n",
       "      <td>No</td>\n",
       "      <td>2000</td>\n",
       "      <td>NaN</td>\n",
       "      <td>East</td>\n",
       "      <td>NaN</td>\n",
       "      <td>0.0</td>\n",
       "      <td>NaN</td>\n",
       "      <td>Flat</td>\n",
       "      <td>NaN</td>\n",
       "      <td>NaN</td>\n",
       "      <td>NaN</td>\n",
       "      <td>NaN</td>\n",
       "      <td>NaN</td>\n",
       "      <td>Overcast</td>\n",
       "      <td>2895200.0</td>\n",
       "      <td>0.0</td>\n",
       "      <td>0.0</td>\n",
       "      <td>0.0</td>\n",
       "      <td>2.0</td>\n",
       "      <td>NaN</td>\n",
       "      <td>NaN</td>\n",
       "      <td>0.0</td>\n",
       "      <td>NaN</td>\n",
       "      <td>NaN</td>\n",
       "      <td>NaN</td>\n",
       "      <td>NaN</td>\n",
       "      <td>NaN</td>\n",
       "      <td>Otago Region</td>\n",
       "      <td>Nil</td>\n",
       "      <td>2-way</td>\n",
       "      <td>Sealed</td>\n",
       "      <td>NaN</td>\n",
       "      <td>0.0</td>\n",
       "      <td>0.0</td>\n",
       "      <td>NaN</td>\n",
       "      <td>70.0</td>\n",
       "      <td>NaN</td>\n",
       "      <td>Null</td>\n",
       "      <td>0.0</td>\n",
       "      <td>0.0</td>\n",
       "      <td>NaN</td>\n",
       "      <td>71.0</td>\n",
       "      <td>Dunedin City</td>\n",
       "      <td>Give way</td>\n",
       "      <td>NaN</td>\n",
       "      <td>NaN</td>\n",
       "      <td>NaN</td>\n",
       "      <td>NaN</td>\n",
       "      <td>0.0</td>\n",
       "      <td>0.0</td>\n",
       "      <td>Urban</td>\n",
       "      <td>1.0</td>\n",
       "      <td>NaN</td>\n",
       "      <td>NaN</td>\n",
       "      <td>Fine</td>\n",
       "      <td>Null</td>\n",
       "    </tr>\n",
       "    <tr>\n",
       "      <th>1</th>\n",
       "      <td>1799023.0</td>\n",
       "      <td>5814728.0</td>\n",
       "      <td>2</td>\n",
       "      <td>NaN</td>\n",
       "      <td>528900.0</td>\n",
       "      <td>0.0</td>\n",
       "      <td>NaN</td>\n",
       "      <td>0.0</td>\n",
       "      <td>3.0</td>\n",
       "      <td>NaN</td>\n",
       "      <td>North</td>\n",
       "      <td>2011/2012</td>\n",
       "      <td>SH 1N</td>\n",
       "      <td>KILLARNEY ROAD</td>\n",
       "      <td>NaN</td>\n",
       "      <td>Non-Injury Crash</td>\n",
       "      <td>Yes</td>\n",
       "      <td>2012</td>\n",
       "      <td>NaN</td>\n",
       "      <td>South</td>\n",
       "      <td>NaN</td>\n",
       "      <td>0.0</td>\n",
       "      <td>NaN</td>\n",
       "      <td>Flat</td>\n",
       "      <td>NaN</td>\n",
       "      <td>NaN</td>\n",
       "      <td>NaN</td>\n",
       "      <td>NaN</td>\n",
       "      <td>NaN</td>\n",
       "      <td>Bright sun</td>\n",
       "      <td>915900.0</td>\n",
       "      <td>0.0</td>\n",
       "      <td>0.0</td>\n",
       "      <td>0.0</td>\n",
       "      <td>4.0</td>\n",
       "      <td>NaN</td>\n",
       "      <td>NaN</td>\n",
       "      <td>0.0</td>\n",
       "      <td>NaN</td>\n",
       "      <td>NaN</td>\n",
       "      <td>NaN</td>\n",
       "      <td>NaN</td>\n",
       "      <td>NaN</td>\n",
       "      <td>Waikato Region</td>\n",
       "      <td>Nil</td>\n",
       "      <td>2-way</td>\n",
       "      <td>Sealed</td>\n",
       "      <td>NaN</td>\n",
       "      <td>0.0</td>\n",
       "      <td>0.0</td>\n",
       "      <td>NaN</td>\n",
       "      <td>60.0</td>\n",
       "      <td>NaN</td>\n",
       "      <td>Null</td>\n",
       "      <td>0.0</td>\n",
       "      <td>0.0</td>\n",
       "      <td>NaN</td>\n",
       "      <td>16.0</td>\n",
       "      <td>Hamilton City</td>\n",
       "      <td>Unknown</td>\n",
       "      <td>NaN</td>\n",
       "      <td>NaN</td>\n",
       "      <td>NaN</td>\n",
       "      <td>NaN</td>\n",
       "      <td>0.0</td>\n",
       "      <td>0.0</td>\n",
       "      <td>Urban</td>\n",
       "      <td>0.0</td>\n",
       "      <td>NaN</td>\n",
       "      <td>NaN</td>\n",
       "      <td>Fine</td>\n",
       "      <td>Null</td>\n",
       "    </tr>\n",
       "    <tr>\n",
       "      <th>2</th>\n",
       "      <td>1741193.0</td>\n",
       "      <td>5976099.0</td>\n",
       "      <td>3</td>\n",
       "      <td>55.0</td>\n",
       "      <td>506660.0</td>\n",
       "      <td>0.0</td>\n",
       "      <td>0.0</td>\n",
       "      <td>0.0</td>\n",
       "      <td>1.0</td>\n",
       "      <td>1.0</td>\n",
       "      <td>North</td>\n",
       "      <td>2006/2007</td>\n",
       "      <td>SH 1N</td>\n",
       "      <td>SAUNDERS ROAD</td>\n",
       "      <td>NaN</td>\n",
       "      <td>Non-Injury Crash</td>\n",
       "      <td>Yes</td>\n",
       "      <td>2007</td>\n",
       "      <td>0.0</td>\n",
       "      <td>North</td>\n",
       "      <td>0.0</td>\n",
       "      <td>0.0</td>\n",
       "      <td>0.0</td>\n",
       "      <td>Flat</td>\n",
       "      <td>0.0</td>\n",
       "      <td>NaN</td>\n",
       "      <td>0.0</td>\n",
       "      <td>NaN</td>\n",
       "      <td>0.0</td>\n",
       "      <td>Twilight</td>\n",
       "      <td>136700.0</td>\n",
       "      <td>0.0</td>\n",
       "      <td>0.0</td>\n",
       "      <td>0.0</td>\n",
       "      <td>2.0</td>\n",
       "      <td>0.0</td>\n",
       "      <td>0.0</td>\n",
       "      <td>0.0</td>\n",
       "      <td>0.0</td>\n",
       "      <td>0.0</td>\n",
       "      <td>NaN</td>\n",
       "      <td>0.0</td>\n",
       "      <td>0.0</td>\n",
       "      <td>Auckland Region</td>\n",
       "      <td>Bridge</td>\n",
       "      <td>2-way</td>\n",
       "      <td>Sealed</td>\n",
       "      <td>0.0</td>\n",
       "      <td>0.0</td>\n",
       "      <td>0.0</td>\n",
       "      <td>0.0</td>\n",
       "      <td>100.0</td>\n",
       "      <td>0.0</td>\n",
       "      <td>None</td>\n",
       "      <td>0.0</td>\n",
       "      <td>0.0</td>\n",
       "      <td>NaN</td>\n",
       "      <td>76.0</td>\n",
       "      <td>Auckland</td>\n",
       "      <td>Nil</td>\n",
       "      <td>0.0</td>\n",
       "      <td>0.0</td>\n",
       "      <td>0.0</td>\n",
       "      <td>0.0</td>\n",
       "      <td>0.0</td>\n",
       "      <td>0.0</td>\n",
       "      <td>Open</td>\n",
       "      <td>0.0</td>\n",
       "      <td>0.0</td>\n",
       "      <td>0.0</td>\n",
       "      <td>Light rain</td>\n",
       "      <td>Null</td>\n",
       "    </tr>\n",
       "    <tr>\n",
       "      <th>3</th>\n",
       "      <td>1790288.0</td>\n",
       "      <td>5837387.0</td>\n",
       "      <td>4</td>\n",
       "      <td>NaN</td>\n",
       "      <td>526601.0</td>\n",
       "      <td>0.0</td>\n",
       "      <td>0.0</td>\n",
       "      <td>0.0</td>\n",
       "      <td>1.0</td>\n",
       "      <td>1.0</td>\n",
       "      <td>North</td>\n",
       "      <td>2006/2007</td>\n",
       "      <td>RIVERVIEW ROAD</td>\n",
       "      <td>HAKARIMATA ROAD</td>\n",
       "      <td>NaN</td>\n",
       "      <td>Non-Injury Crash</td>\n",
       "      <td>No</td>\n",
       "      <td>2006</td>\n",
       "      <td>0.0</td>\n",
       "      <td>North</td>\n",
       "      <td>0.0</td>\n",
       "      <td>0.0</td>\n",
       "      <td>0.0</td>\n",
       "      <td>Flat</td>\n",
       "      <td>0.0</td>\n",
       "      <td>NaN</td>\n",
       "      <td>0.0</td>\n",
       "      <td>NaN</td>\n",
       "      <td>0.0</td>\n",
       "      <td>Overcast</td>\n",
       "      <td>852200.0</td>\n",
       "      <td>0.0</td>\n",
       "      <td>0.0</td>\n",
       "      <td>0.0</td>\n",
       "      <td>2.0</td>\n",
       "      <td>0.0</td>\n",
       "      <td>0.0</td>\n",
       "      <td>0.0</td>\n",
       "      <td>0.0</td>\n",
       "      <td>0.0</td>\n",
       "      <td>NaN</td>\n",
       "      <td>0.0</td>\n",
       "      <td>0.0</td>\n",
       "      <td>Waikato Region</td>\n",
       "      <td>Nil</td>\n",
       "      <td>2-way</td>\n",
       "      <td>Sealed</td>\n",
       "      <td>0.0</td>\n",
       "      <td>0.0</td>\n",
       "      <td>0.0</td>\n",
       "      <td>0.0</td>\n",
       "      <td>100.0</td>\n",
       "      <td>0.0</td>\n",
       "      <td>None</td>\n",
       "      <td>0.0</td>\n",
       "      <td>0.0</td>\n",
       "      <td>NaN</td>\n",
       "      <td>13.0</td>\n",
       "      <td>Waikato District</td>\n",
       "      <td>Nil</td>\n",
       "      <td>0.0</td>\n",
       "      <td>0.0</td>\n",
       "      <td>0.0</td>\n",
       "      <td>0.0</td>\n",
       "      <td>0.0</td>\n",
       "      <td>0.0</td>\n",
       "      <td>Open</td>\n",
       "      <td>0.0</td>\n",
       "      <td>0.0</td>\n",
       "      <td>0.0</td>\n",
       "      <td>Light rain</td>\n",
       "      <td>Null</td>\n",
       "    </tr>\n",
       "    <tr>\n",
       "      <th>4</th>\n",
       "      <td>1615675.0</td>\n",
       "      <td>5423627.0</td>\n",
       "      <td>5</td>\n",
       "      <td>NaN</td>\n",
       "      <td>584201.0</td>\n",
       "      <td>0.0</td>\n",
       "      <td>NaN</td>\n",
       "      <td>0.0</td>\n",
       "      <td>2.0</td>\n",
       "      <td>NaN</td>\n",
       "      <td>Null</td>\n",
       "      <td>2003/2004</td>\n",
       "      <td>TALBOT ST</td>\n",
       "      <td>ELIZABETH ST</td>\n",
       "      <td>NaN</td>\n",
       "      <td>Non-Injury Crash</td>\n",
       "      <td>No</td>\n",
       "      <td>2003</td>\n",
       "      <td>NaN</td>\n",
       "      <td>West</td>\n",
       "      <td>NaN</td>\n",
       "      <td>0.0</td>\n",
       "      <td>NaN</td>\n",
       "      <td>Flat</td>\n",
       "      <td>NaN</td>\n",
       "      <td>NaN</td>\n",
       "      <td>NaN</td>\n",
       "      <td>NaN</td>\n",
       "      <td>NaN</td>\n",
       "      <td>Overcast</td>\n",
       "      <td>2361500.0</td>\n",
       "      <td>0.0</td>\n",
       "      <td>0.0</td>\n",
       "      <td>0.0</td>\n",
       "      <td>2.0</td>\n",
       "      <td>NaN</td>\n",
       "      <td>NaN</td>\n",
       "      <td>0.0</td>\n",
       "      <td>NaN</td>\n",
       "      <td>NaN</td>\n",
       "      <td>NaN</td>\n",
       "      <td>NaN</td>\n",
       "      <td>NaN</td>\n",
       "      <td>Tasman Region</td>\n",
       "      <td>Nil</td>\n",
       "      <td>2-way</td>\n",
       "      <td>Sealed</td>\n",
       "      <td>NaN</td>\n",
       "      <td>0.0</td>\n",
       "      <td>0.0</td>\n",
       "      <td>NaN</td>\n",
       "      <td>50.0</td>\n",
       "      <td>NaN</td>\n",
       "      <td>Null</td>\n",
       "      <td>0.0</td>\n",
       "      <td>0.0</td>\n",
       "      <td>NaN</td>\n",
       "      <td>51.0</td>\n",
       "      <td>Tasman District</td>\n",
       "      <td>Give way</td>\n",
       "      <td>NaN</td>\n",
       "      <td>NaN</td>\n",
       "      <td>NaN</td>\n",
       "      <td>NaN</td>\n",
       "      <td>0.0</td>\n",
       "      <td>0.0</td>\n",
       "      <td>Urban</td>\n",
       "      <td>0.0</td>\n",
       "      <td>NaN</td>\n",
       "      <td>NaN</td>\n",
       "      <td>Fine</td>\n",
       "      <td>Null</td>\n",
       "    </tr>\n",
       "  </tbody>\n",
       "</table>\n",
       "</div>"
      ],
      "text/plain": [
       "           X          Y  OBJECTID  advisorySpeed  areaUnitID  bicycle  bridge  \\\n",
       "0  1406914.0  4915023.0         1            NaN    602800.0      0.0     NaN   \n",
       "1  1799023.0  5814728.0         2            NaN    528900.0      0.0     NaN   \n",
       "2  1741193.0  5976099.0         3           55.0    506660.0      0.0     0.0   \n",
       "3  1790288.0  5837387.0         4            NaN    526601.0      0.0     0.0   \n",
       "4  1615675.0  5423627.0         5            NaN    584201.0      0.0     NaN   \n",
       "\n",
       "   bus  carStationWagon  cliffBank crashDirectionDescription  \\\n",
       "0  0.0              1.0        NaN                      Null   \n",
       "1  0.0              3.0        NaN                     North   \n",
       "2  0.0              1.0        1.0                     North   \n",
       "3  0.0              1.0        1.0                     North   \n",
       "4  0.0              2.0        NaN                      Null   \n",
       "\n",
       "  crashFinancialYear  crashLocation1    crashLocation2  crashRoadSideRoad  \\\n",
       "0          2000/2001      MIDLAND ST  PORTSMOUTH DRIVE                NaN   \n",
       "1          2011/2012           SH 1N    KILLARNEY ROAD                NaN   \n",
       "2          2006/2007           SH 1N     SAUNDERS ROAD                NaN   \n",
       "3          2006/2007  RIVERVIEW ROAD   HAKARIMATA ROAD                NaN   \n",
       "4          2003/2004       TALBOT ST      ELIZABETH ST                NaN   \n",
       "\n",
       "      crashSeverity crashSHDescription  crashYear  debris  \\\n",
       "0  Non-Injury Crash                 No       2000     NaN   \n",
       "1  Non-Injury Crash                Yes       2012     NaN   \n",
       "2  Non-Injury Crash                Yes       2007     0.0   \n",
       "3  Non-Injury Crash                 No       2006     0.0   \n",
       "4  Non-Injury Crash                 No       2003     NaN   \n",
       "\n",
       "  directionRoleDescription  ditch  fatalCount  fence flatHill  guardRail  \\\n",
       "0                     East    NaN         0.0    NaN     Flat        NaN   \n",
       "1                    South    NaN         0.0    NaN     Flat        NaN   \n",
       "2                    North    0.0         0.0    0.0     Flat        0.0   \n",
       "3                    North    0.0         0.0    0.0     Flat        0.0   \n",
       "4                     West    NaN         0.0    NaN     Flat        NaN   \n",
       "\n",
       "  holiday  houseOrBuilding  intersection  kerb       light  meshblockId  \\\n",
       "0     NaN              NaN           NaN   NaN    Overcast    2895200.0   \n",
       "1     NaN              NaN           NaN   NaN  Bright sun     915900.0   \n",
       "2     NaN              0.0           NaN   0.0    Twilight     136700.0   \n",
       "3     NaN              0.0           NaN   0.0    Overcast     852200.0   \n",
       "4     NaN              NaN           NaN   NaN    Overcast    2361500.0   \n",
       "\n",
       "   minorInjuryCount  moped  motorcycle  NumberOfLanes  objectThrownOrDropped  \\\n",
       "0               0.0    0.0         0.0            2.0                    NaN   \n",
       "1               0.0    0.0         0.0            4.0                    NaN   \n",
       "2               0.0    0.0         0.0            2.0                    0.0   \n",
       "3               0.0    0.0         0.0            2.0                    0.0   \n",
       "4               0.0    0.0         0.0            2.0                    NaN   \n",
       "\n",
       "   otherObject  otherVehicleType  overBank  parkedVehicle  pedestrian  \\\n",
       "0          NaN               0.0       NaN            NaN         NaN   \n",
       "1          NaN               0.0       NaN            NaN         NaN   \n",
       "2          0.0               0.0       0.0            0.0         NaN   \n",
       "3          0.0               0.0       0.0            0.0         NaN   \n",
       "4          NaN               0.0       NaN            NaN         NaN   \n",
       "\n",
       "   phoneBoxEtc  postOrPole           region roadCharacter roadLane  \\\n",
       "0          NaN         NaN     Otago Region           Nil    2-way   \n",
       "1          NaN         NaN   Waikato Region           Nil    2-way   \n",
       "2          0.0         0.0  Auckland Region        Bridge    2-way   \n",
       "3          0.0         0.0   Waikato Region           Nil    2-way   \n",
       "4          NaN         NaN    Tasman Region           Nil    2-way   \n",
       "\n",
       "  roadSurface  roadworks  schoolBus  seriousInjuryCount  slipOrFlood  \\\n",
       "0      Sealed        NaN        0.0                 0.0          NaN   \n",
       "1      Sealed        NaN        0.0                 0.0          NaN   \n",
       "2      Sealed        0.0        0.0                 0.0          0.0   \n",
       "3      Sealed        0.0        0.0                 0.0          0.0   \n",
       "4      Sealed        NaN        0.0                 0.0          NaN   \n",
       "\n",
       "   speedLimit  strayAnimal streetLight  suv  taxi  temporarySpeedLimit  tlaId  \\\n",
       "0        70.0          NaN        Null  0.0   0.0                  NaN   71.0   \n",
       "1        60.0          NaN        Null  0.0   0.0                  NaN   16.0   \n",
       "2       100.0          0.0        None  0.0   0.0                  NaN   76.0   \n",
       "3       100.0          0.0        None  0.0   0.0                  NaN   13.0   \n",
       "4        50.0          NaN        Null  0.0   0.0                  NaN   51.0   \n",
       "\n",
       "            tlaName trafficControl  trafficIsland  trafficSign  train  tree  \\\n",
       "0      Dunedin City       Give way            NaN          NaN    NaN   NaN   \n",
       "1     Hamilton City        Unknown            NaN          NaN    NaN   NaN   \n",
       "2          Auckland            Nil            0.0          0.0    0.0   0.0   \n",
       "3  Waikato District            Nil            0.0          0.0    0.0   0.0   \n",
       "4   Tasman District       Give way            NaN          NaN    NaN   NaN   \n",
       "\n",
       "   truck  unknownVehicleType  urban  vanOrUtility  vehicle  waterRiver  \\\n",
       "0    0.0                 0.0  Urban           1.0      NaN         NaN   \n",
       "1    0.0                 0.0  Urban           0.0      NaN         NaN   \n",
       "2    0.0                 0.0   Open           0.0      0.0         0.0   \n",
       "3    0.0                 0.0   Open           0.0      0.0         0.0   \n",
       "4    0.0                 0.0  Urban           0.0      NaN         NaN   \n",
       "\n",
       "     weatherA weatherB  \n",
       "0        Fine     Null  \n",
       "1        Fine     Null  \n",
       "2  Light rain     Null  \n",
       "3  Light rain     Null  \n",
       "4        Fine     Null  "
      ]
     },
     "execution_count": 5,
     "metadata": {},
     "output_type": "execute_result"
    }
   ],
   "source": [
    "df.head()"
   ]
  },
  {
   "cell_type": "code",
   "execution_count": 6,
   "id": "916bb956",
   "metadata": {},
   "outputs": [
    {
     "data": {
      "text/plain": [
       "(758757, 72)"
      ]
     },
     "execution_count": 6,
     "metadata": {},
     "output_type": "execute_result"
    }
   ],
   "source": [
    "df.shape"
   ]
  },
  {
   "cell_type": "code",
   "execution_count": 7,
   "id": "2d6423c3",
   "metadata": {},
   "outputs": [
    {
     "data": {
      "text/plain": [
       "Non-Injury Crash    534058\n",
       "Minor Crash         174849\n",
       "Serious Crash        42884\n",
       "Fatal Crash           6966\n",
       "Name: crashSeverity, dtype: int64"
      ]
     },
     "execution_count": 7,
     "metadata": {},
     "output_type": "execute_result"
    }
   ],
   "source": [
    "df.crashSeverity.value_counts()"
   ]
  },
  {
   "cell_type": "code",
   "execution_count": 8,
   "id": "961c9825",
   "metadata": {},
   "outputs": [
    {
     "data": {
      "text/plain": [
       "Index(['X', 'Y', 'OBJECTID', 'advisorySpeed', 'areaUnitID', 'bicycle',\n",
       "       'bridge', 'bus', 'carStationWagon', 'cliffBank',\n",
       "       'crashDirectionDescription', 'crashFinancialYear', 'crashLocation1',\n",
       "       'crashLocation2', 'crashRoadSideRoad', 'crashSeverity',\n",
       "       'crashSHDescription', 'crashYear', 'debris', 'directionRoleDescription',\n",
       "       'ditch', 'fatalCount', 'fence', 'flatHill', 'guardRail', 'holiday',\n",
       "       'houseOrBuilding', 'intersection', 'kerb', 'light', 'meshblockId',\n",
       "       'minorInjuryCount', 'moped', 'motorcycle', 'NumberOfLanes',\n",
       "       'objectThrownOrDropped', 'otherObject', 'otherVehicleType', 'overBank',\n",
       "       'parkedVehicle', 'pedestrian', 'phoneBoxEtc', 'postOrPole', 'region',\n",
       "       'roadCharacter', 'roadLane', 'roadSurface', 'roadworks', 'schoolBus',\n",
       "       'seriousInjuryCount', 'slipOrFlood', 'speedLimit', 'strayAnimal',\n",
       "       'streetLight', 'suv', 'taxi', 'temporarySpeedLimit', 'tlaId', 'tlaName',\n",
       "       'trafficControl', 'trafficIsland', 'trafficSign', 'train', 'tree',\n",
       "       'truck', 'unknownVehicleType', 'urban', 'vanOrUtility', 'vehicle',\n",
       "       'waterRiver', 'weatherA', 'weatherB'],\n",
       "      dtype='object')"
      ]
     },
     "execution_count": 8,
     "metadata": {},
     "output_type": "execute_result"
    }
   ],
   "source": [
    "df.columns"
   ]
  },
  {
   "cell_type": "code",
   "execution_count": 9,
   "id": "2f28aba5",
   "metadata": {},
   "outputs": [
    {
     "data": {
      "text/plain": [
       "True"
      ]
     },
     "execution_count": 9,
     "metadata": {},
     "output_type": "execute_result"
    }
   ],
   "source": [
    "df.advisorySpeed.isnull().any()"
   ]
  },
  {
   "cell_type": "code",
   "execution_count": 10,
   "id": "73effcf0",
   "metadata": {},
   "outputs": [],
   "source": [
    "df['bicycle'].fillna(0,inplace=True)\n",
    "df['bus'].fillna(0,inplace=True)\n",
    "df['carStationWagon'].fillna(0,inplace=True)\n",
    "df['moped'].fillna(0,inplace=True)\n",
    "df['motorcycle'].fillna(0,inplace=True)\n",
    "df['otherVehicleType'].fillna(0,inplace=True)\n",
    "df['schoolBus'].fillna(0,inplace=True)\n",
    "df['suv'].fillna(0,inplace=True)\n",
    "df['taxi'].fillna(0,inplace=True)\n",
    "df['truck'].fillna(0,inplace=True)\n",
    "df['unknownVehicleType'].fillna(0,inplace=True)\n",
    "df['vanOrUtility'].fillna(0,inplace=True)\n",
    "df['bridge'].fillna(0,inplace=True)\n",
    "df['cliffBank'].fillna(0,inplace=True)\n",
    "df['debris'].fillna(0,inplace=True)\n",
    "df['ditch'].fillna(0,inplace=True)\n",
    "df['fence'].fillna(0,inplace=True)\n",
    "df['truck'].fillna(0,inplace=True)\n",
    "df['guardRail'].fillna(0,inplace=True)\n",
    "df['houseOrBuilding'].fillna(0,inplace=True)\n",
    "df['kerb'].fillna(0,inplace=True)\n",
    "df['NumberOfLanes'].fillna(1,inplace=True)\n",
    "df['objectThrownOrDropped'].fillna(0,inplace=True)\n",
    "df['otherObject'].fillna(0,inplace=True)\n",
    "df['overBank'].fillna(0,inplace=True)\n",
    "df['parkedVehicle'].fillna(0,inplace=True)\n",
    "df['phoneBoxEtc'].fillna(0,inplace=True)\n",
    "df['postOrPole'].fillna(0,inplace=True)\n",
    "df['roadworks'].fillna(0,inplace=True)\n",
    "df['slipOrFlood'].fillna(0,inplace=True)\n",
    "df['speedLimit'].fillna(0,inplace=True)\n",
    "df['strayAnimal'].fillna(0,inplace=True)\n",
    "df['train'].fillna(0,inplace=True)\n",
    "df['tree'].fillna(0,inplace=True)\n",
    "df['vehicle'].fillna(0,inplace=True)\n",
    "df['trafficIsland'].fillna(0,inplace=True)\n",
    "df['trafficSign'].fillna(0,inplace=True)\n",
    "df['waterRiver'].fillna(0,inplace=True)\n",
    "df['fatalCount'].fillna(0,inplace=True)\n",
    "df['minorInjuryCount'].fillna(0,inplace=True)\n",
    "df['seriousInjuryCount'].fillna(0,inplace=True)"
   ]
  },
  {
   "cell_type": "code",
   "execution_count": 11,
   "id": "bb5173f5",
   "metadata": {},
   "outputs": [],
   "source": [
    "df['crashDirectionDescription'].fillna('None',inplace=True)\n",
    "df['crashLocation2'].fillna('None',inplace=True)\n",
    "df['directionRoleDescription'].fillna('None',inplace=True)\n",
    "df['flatHill'].fillna('None',inplace=True)\n",
    "df['region'].fillna('None',inplace=True)\n",
    "df['roadLane'].fillna('None',inplace=True)\n",
    "df['roadSurface'].fillna('None',inplace=True)\n",
    "df['streetLight'].fillna('None',inplace=True)\n",
    "df['tlaName'].fillna('None',inplace=True)\n",
    "df['weatherA'].fillna('None',inplace=True)"
   ]
  },
  {
   "cell_type": "code",
   "execution_count": 12,
   "id": "0910c822",
   "metadata": {},
   "outputs": [],
   "source": [
    "test_df= df.sample(n=10000)"
   ]
  },
  {
   "cell_type": "code",
   "execution_count": 13,
   "id": "26a22748",
   "metadata": {},
   "outputs": [],
   "source": [
    "test_y=test_df[\"crashSeverity\"]\n",
    "test_x=test_df.drop(columns=[\"minorInjuryCount\",\"fatalCount\",\"crashSeverity\",\"seriousInjuryCount\",\"areaUnitID\",\"X\",\"Y\",\"OBJECTID\",\"meshblockId\",\"crashDirectionDescription\",\"crashFinancialYear\",\"crashLocation1\",\"crashLocation2\",\"crashRoadSideRoad\",\"crashSHDescription\",\"directionRoleDescription\",\"flatHill\",\"holiday\",\"light\",\"region\",\"roadCharacter\",\"roadLane\",\"roadSurface\",\"streetLight\",\"tlaName\",\"trafficControl\",\"trafficIsland\",\"urban\",\"weatherA\",\"weatherB\",\"tlaId\",\"temporarySpeedLimit\",\"pedestrian\",\"intersection\",\"advisorySpeed\"],inplace=False,axis=1)"
   ]
  },
  {
   "cell_type": "code",
   "execution_count": 39,
   "id": "70242e29",
   "metadata": {},
   "outputs": [],
   "source": [
    "y=df[\"crashSeverity\"]\n",
    "x=df.drop(columns=[\"minorInjuryCount\",\"crashSeverity\",\"areaUnitID\",\"X\",\"Y\",\"OBJECTID\",\"meshblockId\",\"crashDirectionDescription\",\"crashFinancialYear\",\"crashLocation1\",\"crashLocation2\",\"crashRoadSideRoad\",\"crashSHDescription\",\"directionRoleDescription\",\"flatHill\",\"holiday\",\"light\",\"region\",\"roadCharacter\",\"roadLane\",\"roadSurface\",\"streetLight\",\"tlaName\",\"trafficControl\",\"trafficIsland\",\"urban\",\"weatherA\",\"weatherB\",\"tlaId\",\"temporarySpeedLimit\",\"pedestrian\",\"intersection\",\"advisorySpeed\"],inplace=False,axis=1)"
   ]
  },
  {
   "cell_type": "code",
   "execution_count": 40,
   "id": "b4ba71d7",
   "metadata": {},
   "outputs": [],
   "source": [
    "from sklearn.model_selection import train_test_split\n",
    "from sklearn.model_selection import cross_val_score\n",
    "from sklearn.model_selection import GridSearchCV\n",
    "from sklearn.ensemble import RandomForestClassifier\n",
    "from sklearn.metrics import accuracy_score"
   ]
  },
  {
   "cell_type": "code",
   "execution_count": 41,
   "id": "2c0fb91d",
   "metadata": {},
   "outputs": [],
   "source": [
    "x_train, x_test, y_train, y_test = train_test_split(x, y, test_size=0.1, random_state=42)"
   ]
  },
  {
   "cell_type": "code",
   "execution_count": 42,
   "id": "17006879",
   "metadata": {},
   "outputs": [],
   "source": [
    "rfc=RandomForestClassifier(random_state=42)"
   ]
  },
  {
   "cell_type": "code",
   "execution_count": 22,
   "id": "a4fdc182",
   "metadata": {},
   "outputs": [],
   "source": [
    "param_grid = { \n",
    "    'n_estimators': [50,100,150,200],\n",
    "    'max_features': ['sqrt','log2'],\n",
    "    'max_depth' : [13,14,15,16],\n",
    "    'criterion' :['gini','entropy']\n",
    "}"
   ]
  },
  {
   "cell_type": "code",
   "execution_count": 23,
   "id": "fbabe4ed",
   "metadata": {},
   "outputs": [
    {
     "data": {
      "text/plain": [
       "GridSearchCV(cv=5, estimator=RandomForestClassifier(random_state=42),\n",
       "             param_grid={'criterion': ['gini', 'entropy'],\n",
       "                         'max_depth': [13, 14, 15, 16],\n",
       "                         'max_features': ['sqrt', 'log2'],\n",
       "                         'n_estimators': [50, 100, 150, 200]})"
      ]
     },
     "execution_count": 23,
     "metadata": {},
     "output_type": "execute_result"
    }
   ],
   "source": [
    "CV_rfc = GridSearchCV(estimator=rfc, param_grid=param_grid, cv= 5)\n",
    "CV_rfc.fit(test_x,test_y)"
   ]
  },
  {
   "cell_type": "code",
   "execution_count": 24,
   "id": "0791a0f1",
   "metadata": {
    "scrolled": true
   },
   "outputs": [
    {
     "data": {
      "text/plain": [
       "{'criterion': 'gini',\n",
       " 'max_depth': 13,\n",
       " 'max_features': 'sqrt',\n",
       " 'n_estimators': 200}"
      ]
     },
     "execution_count": 24,
     "metadata": {},
     "output_type": "execute_result"
    }
   ],
   "source": [
    "CV_rfc.best_params_\n"
   ]
  },
  {
   "cell_type": "code",
   "execution_count": 25,
   "id": "402652b7",
   "metadata": {},
   "outputs": [],
   "source": [
    "rfc1=RandomForestClassifier(random_state=42, max_features='sqrt', n_estimators= 200, max_depth=13, criterion='gini')"
   ]
  },
  {
   "cell_type": "code",
   "execution_count": 43,
   "id": "f3dad950",
   "metadata": {},
   "outputs": [
    {
     "data": {
      "text/plain": [
       "RandomForestClassifier(max_depth=13, max_features='sqrt', n_estimators=200,\n",
       "                       random_state=42)"
      ]
     },
     "execution_count": 43,
     "metadata": {},
     "output_type": "execute_result"
    }
   ],
   "source": [
    "rfc1.fit(x_train, y_train)"
   ]
  },
  {
   "cell_type": "code",
   "execution_count": 28,
   "id": "50179b51",
   "metadata": {},
   "outputs": [],
   "source": [
    "from sklearn.metrics import confusion_matrix"
   ]
  },
  {
   "cell_type": "code",
   "execution_count": 44,
   "id": "d31d81dc",
   "metadata": {},
   "outputs": [],
   "source": [
    "y_pred = rfc1.predict(x_test)\n",
    "cm = confusion_matrix(y_test,y_pred)"
   ]
  },
  {
   "cell_type": "code",
   "execution_count": 45,
   "id": "3b2f4a12",
   "metadata": {},
   "outputs": [
    {
     "data": {
      "text/plain": [
       "array([[  709,     0,     0,     0],\n",
       "       [    0,  3077, 14397,     0],\n",
       "       [    0,  1103, 52332,     0],\n",
       "       [    0,     0,     1,  4257]], dtype=int64)"
      ]
     },
     "execution_count": 45,
     "metadata": {},
     "output_type": "execute_result"
    }
   ],
   "source": [
    "cm"
   ]
  },
  {
   "cell_type": "code",
   "execution_count": 47,
   "id": "2a702ea3",
   "metadata": {},
   "outputs": [],
   "source": [
    "from sklearn.metrics import accuracy_score"
   ]
  },
  {
   "cell_type": "code",
   "execution_count": 48,
   "id": "b4586b77",
   "metadata": {},
   "outputs": [
    {
     "data": {
      "text/plain": [
       "0.7957061521429701"
      ]
     },
     "execution_count": 48,
     "metadata": {},
     "output_type": "execute_result"
    }
   ],
   "source": [
    "accuracy_score(y_test,y_pred)"
   ]
  },
  {
   "cell_type": "code",
   "execution_count": 32,
   "id": "d0383bbd",
   "metadata": {},
   "outputs": [],
   "source": [
    "#CV_rfc = GridSearchCV(estimator=rfc, param_grid=param_grid, cv= 5)\n",
    "#CV_rfc.fit(x_train, y_train)"
   ]
  },
  {
   "cell_type": "code",
   "execution_count": 49,
   "id": "c9a0de7a",
   "metadata": {},
   "outputs": [],
   "source": [
    "from sklearn.metrics import precision_score,recall_score,f1_score\n",
    "from sklearn.metrics import classification_report"
   ]
  },
  {
   "cell_type": "code",
   "execution_count": 50,
   "id": "6cf23dae",
   "metadata": {},
   "outputs": [
    {
     "name": "stdout",
     "output_type": "stream",
     "text": [
      "precision_score: 0.7957061521429701\n",
      "recall_score: 0.7957061521429701\n",
      "f1_score: 0.7957061521429701\n"
     ]
    }
   ],
   "source": [
    "print(\"precision_score: \"+ str(precision_score(y_test,y_pred,average=\"micro\")))\n",
    "print(\"recall_score: \"+ str(recall_score(y_test,y_pred,average=\"micro\")))\n",
    "print(\"f1_score: \"+ str(f1_score(y_test,y_pred,average=\"micro\")))"
   ]
  },
  {
   "cell_type": "code",
   "execution_count": 51,
   "id": "7f3c484c",
   "metadata": {},
   "outputs": [
    {
     "name": "stdout",
     "output_type": "stream",
     "text": [
      "              precision    recall  f1-score   support\n",
      "\n",
      "      class1       1.00      1.00      1.00       709\n",
      "      class2       0.74      0.18      0.28     17474\n",
      "      class3       0.78      0.98      0.87     53435\n",
      "      class4       1.00      1.00      1.00      4258\n",
      "\n",
      "    accuracy                           0.80     75876\n",
      "   macro avg       0.88      0.79      0.79     75876\n",
      "weighted avg       0.79      0.80      0.74     75876\n",
      "\n"
     ]
    }
   ],
   "source": [
    "print(classification_report(y_test, y_pred, target_names=[\"class1\",\"class2\",\"class3\",\"class4\"]))"
   ]
  },
  {
   "cell_type": "code",
   "execution_count": 36,
   "id": "0109da7b",
   "metadata": {},
   "outputs": [
    {
     "name": "stdout",
     "output_type": "stream",
     "text": [
      "precision_score: 0.9999810152669006\n",
      "recall_score: 0.9999366084077427\n",
      "f1_score: 0.9999588081850274\n"
     ]
    }
   ],
   "source": [
    "print(\"precision_score: \"+ str(precision_score(y_test,y_pred,average=\"macro\")))\n",
    "print(\"recall_score: \"+ str(recall_score(y_test,y_pred,average=\"macro\")))\n",
    "print(\"f1_score: \"+ str(f1_score(y_test,y_pred,average=\"macro\")))"
   ]
  },
  {
   "cell_type": "code",
   "execution_count": null,
   "id": "b34be5ab",
   "metadata": {},
   "outputs": [],
   "source": []
  }
 ],
 "metadata": {
  "kernelspec": {
   "display_name": "Python 3 (ipykernel)",
   "language": "python",
   "name": "python3"
  },
  "language_info": {
   "codemirror_mode": {
    "name": "ipython",
    "version": 3
   },
   "file_extension": ".py",
   "mimetype": "text/x-python",
   "name": "python",
   "nbconvert_exporter": "python",
   "pygments_lexer": "ipython3",
   "version": "3.9.7"
  }
 },
 "nbformat": 4,
 "nbformat_minor": 5
}
